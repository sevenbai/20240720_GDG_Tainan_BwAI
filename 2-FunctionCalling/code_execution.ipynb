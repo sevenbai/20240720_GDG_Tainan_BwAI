{
 "cells": [
  {
   "cell_type": "code",
   "execution_count": 2,
   "metadata": {},
   "outputs": [],
   "source": [
    "import os\n",
    "from dotenv import load_dotenv\n",
    "import google.generativeai as genai\n",
    "\n",
    "load_dotenv()\n",
    "genai.configure(api_key=os.getenv(\"GENAI_API_KEY\")) # 不知道從哪個版本起，都要把這行加上\n",
    "model = genai.GenerativeModel(\"gemini-1.5-pro\")"
   ]
  },
  {
   "cell_type": "code",
   "execution_count": 12,
   "metadata": {},
   "outputs": [
    {
     "name": "stdout",
     "output_type": "stream",
     "text": [
      "思考：我可以寫一個程式來找出質數並計算它們的總和。\n",
      "\n",
      "\n",
      "``` python\n",
      "def is_prime(n):\n",
      "  \"\"\"如果 n 是質數，則回傳 True，否則回傳 False。\"\"\"\n",
      "  if n <= 1:\n",
      "    return False\n",
      "  for i in range(2, int(n ** 0.5) + 1):\n",
      "    if n % i == 0:\n",
      "      return False\n",
      "  return True\n",
      "\n",
      "\n",
      "primes = []\n",
      "n = 2\n",
      "while len(primes) < 200:\n",
      "  if is_prime(n):\n",
      "    primes.append(n)\n",
      "  n += 1\n",
      "\n",
      "print(sum(primes))\n",
      "\n",
      "```\n",
      "```\n",
      "111587\n",
      "\n",
      "```\n",
      "前 200 個質數的總和為 111587。\n"
     ]
    }
   ],
   "source": [
    "response = model.generate_content(\n",
    "    ('前200個質數的總和為多少？'),\n",
    "    tools='code_execution'\n",
    "    )\n",
    "\n",
    "print(response.text)"
   ]
  }
 ],
 "metadata": {
  "kernelspec": {
   "display_name": "Python 3",
   "language": "python",
   "name": "python3"
  },
  "language_info": {
   "codemirror_mode": {
    "name": "ipython",
    "version": 3
   },
   "file_extension": ".py",
   "mimetype": "text/x-python",
   "name": "python",
   "nbconvert_exporter": "python",
   "pygments_lexer": "ipython3",
   "version": "3.12.0"
  }
 },
 "nbformat": 4,
 "nbformat_minor": 2
}
