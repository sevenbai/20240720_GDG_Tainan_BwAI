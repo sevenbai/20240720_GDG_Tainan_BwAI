{
 "cells": [
  {
   "cell_type": "markdown",
   "metadata": {},
   "source": [
    "## LLM Function Calling & Agent\n",
    "\n",
    "#### Seven 白勝文 [sevenbai@gmail.com](mailto://sevenbai@gmail.com)\n",
    "\n",
    "Function Calling 就像 LLM 跟真實世界的異次元通道，讓 LLM 不只出一張嘴，還知道如何使用工具，當進一步發展成 Agent 時，更是讓 AI 進入【已知用火】的新時代。"
   ]
  },
  {
   "cell_type": "markdown",
   "metadata": {},
   "source": [
    "### 環境準備"
   ]
  },
  {
   "cell_type": "markdown",
   "metadata": {},
   "source": [
    "1. 把 .env.sample 改名為 .env\n",
    "2. 到 https://aistudio.google.com/app/apikey 申請 Google API key\n",
    "3. 將 Google API key 填入 .env 檔"
   ]
  },
  {
   "cell_type": "code",
   "execution_count": null,
   "metadata": {},
   "outputs": [],
   "source": [
    "import os\n",
    "from dotenv import load_dotenv\n",
    "import google.generativeai as genai\n",
    "\n",
    "load_dotenv()\n",
    "genai.configure(api_key=os.getenv(\"GENAI_API_KEY\")) # 不知道從哪個版本起，都要把這行加上\n",
    "model = genai.GenerativeModel(\"gemini-1.5-pro\") # Function calling 建議採用最好的模型"
   ]
  },
  {
   "cell_type": "markdown",
   "metadata": {},
   "source": [
    "### 一般對話"
   ]
  },
  {
   "cell_type": "code",
   "execution_count": null,
   "metadata": {},
   "outputs": [],
   "source": [
    "prompt = \"請告訴我現在的時間\"\n",
    "\n",
    "response = model.generate_content([{\n",
    "    \"role\": \"user\",\n",
    "    \"parts\": [{\n",
    "        \"text\": prompt\n",
    "    }]\n",
    "}])\n",
    "print(response.candidates[0].content)"
   ]
  },
  {
   "cell_type": "markdown",
   "metadata": {},
   "source": [
    "<img src=\"images/function_calling_0.png\" width=\"300\">"
   ]
  },
  {
   "cell_type": "markdown",
   "metadata": {},
   "source": [
    "### 什麼是 Function Calling？"
   ]
  },
  {
   "cell_type": "markdown",
   "metadata": {},
   "source": [
    "[Gemini API 文件的解釋](https://ai.google.dev/gemini-api/docs/function-calling?hl=zh-tw)\n",
    "\n",
    "您可以使用函式呼叫定義自訂函式，並提供給生成式 AI 模型。模型不會直接叫用這些函式，而是產生結構化資料輸出，指定函式名稱和建議的引數。此輸出內容可以呼叫外部 API，所產生的 API 輸出內容也可以整合回模型中，以便取得更全面的查詢回應。函式呼叫可讓 LLM 與即時資訊和各種服務 (例如資料庫、客戶關係管理系統和文件存放區) 互動，藉此提升提供相關且符合情境的答案。\n",
    "\n",
    "<img src=\"images/function_calling_0.png\" height=\"300\">　　　\n",
    "<img src=\"images/function_calling_1.png\" height=\"300\">"
   ]
  },
  {
   "cell_type": "markdown",
   "metadata": {},
   "source": [
    "### 使用 Function Calling"
   ]
  },
  {
   "cell_type": "code",
   "execution_count": null,
   "metadata": {},
   "outputs": [],
   "source": [
    "from google.generativeai.types import FunctionDeclaration, Tool\n",
    "\n",
    "# 首先準備一個 get_time() function 的宣告\n",
    "\n",
    "# 定義 function\n",
    "get_time_func = FunctionDeclaration(\n",
    "    name = \"get_time\",  # function 名稱\n",
    "    description = \"Used to get current time\",   # function 功能\n",
    ")\n",
    "# 包裝成 tool\n",
    "get_time_tool = Tool(\n",
    "    function_declarations = [get_time_func],\n",
    ")\n",
    "# 放進工具箱\n",
    "toolbox = [get_time_tool]"
   ]
  },
  {
   "cell_type": "code",
   "execution_count": null,
   "metadata": {},
   "outputs": [],
   "source": [
    "# 把 get_time() 實作出來\n",
    "import time\n",
    "def get_time():\n",
    "    return { \"time\": time.strftime(\"%I:%M %p\") }"
   ]
  },
  {
   "cell_type": "code",
   "execution_count": null,
   "metadata": {},
   "outputs": [],
   "source": [
    "# 再次呼叫 LLM，但這次提供額外的 tools 給它\n",
    "messages = [{\n",
    "    \"role\": \"user\",\n",
    "    \"parts\": [{\n",
    "        \"text\": prompt\n",
    "    }]\n",
    "}]\n",
    "response = model.generate_content(\n",
    "    messages,\n",
    "    tools = toolbox,\n",
    ")\n",
    "content = response.candidates[0].content\n",
    "print(content)"
   ]
  },
  {
   "cell_type": "markdown",
   "metadata": {},
   "source": [
    "就算給了 LLM 工具，Function Calling 也只會給出下一步指示，不會動手執行！"
   ]
  },
  {
   "cell_type": "markdown",
   "metadata": {},
   "source": [
    "### 完整的 function calling 流程"
   ]
  },
  {
   "cell_type": "markdown",
   "metadata": {},
   "source": [
    "<img src=\"images/function_calling_2.png\" width=\"600\">"
   ]
  },
  {
   "cell_type": "markdown",
   "metadata": {},
   "source": [
    "#### 走完剩下的流程"
   ]
  },
  {
   "cell_type": "code",
   "execution_count": null,
   "metadata": {},
   "outputs": [],
   "source": [
    "from google.protobuf.struct_pb2 import Struct\n",
    "\n",
    "# 把 LLM 回覆的 function calling 加入 message\n",
    "messages.append(content)\n",
    "\n",
    "# 實際呼叫 function，並把結果加入 message\n",
    "function_response = Struct()\n",
    "function_response.update(get_time())\n",
    "messages.append({\n",
    "    \"role\": \"function\",\n",
    "    \"parts\": [{\n",
    "        \"function_response\": {\n",
    "            \"name\": content.parts[0].function_call.name,\n",
    "            \"response\": function_response\n",
    "        }\n",
    "    }]\n",
    "})\n",
    "\n",
    "# 再次呼叫 LLM\n",
    "print(f\"Current messages: {messages}\")\n",
    "response = model.generate_content(\n",
    "    messages,\n",
    "    tools = toolbox,\n",
    ")\n",
    "# LLM 會根據原始問題、function calling 結果產生最終答案\n",
    "content = response.candidates[0].content\n",
    "print(f\"LLM response: {content}\")"
   ]
  }
 ],
 "metadata": {
  "kernelspec": {
   "display_name": "Python 3",
   "language": "python",
   "name": "python3"
  },
  "language_info": {
   "codemirror_mode": {
    "name": "ipython",
    "version": 3
   },
   "file_extension": ".py",
   "mimetype": "text/x-python",
   "name": "python",
   "nbconvert_exporter": "python",
   "pygments_lexer": "ipython3",
   "version": "3.12.0"
  }
 },
 "nbformat": 4,
 "nbformat_minor": 2
}
